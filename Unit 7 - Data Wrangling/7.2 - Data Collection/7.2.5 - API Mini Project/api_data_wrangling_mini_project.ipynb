{
 "cells": [
  {
   "cell_type": "markdown",
   "metadata": {},
   "source": [
    "After you register, you will be provided with a unique API key, that you should store:\n",
    "\n",
    "*Note*: Use a `.env` file and put your key in there and `python-dotenv` to access it in this notebook. \n",
    "\n",
    "The code below uses a key that was used when generating this project but has since been deleted. Never submit your keys to source control. There is a `.env-example` file in this repository to illusrtate what you need. Copy that to a file called `.env` and use your own api key in that `.env` file. Make sure you also have a `.gitignore` file with a line for `.env` added to it. \n",
    "\n",
    "The standard Python gitignore is [here](https://github.com/github/gitignore/blob/master/Python.gitignore) you can just copy that. "
   ]
  },
  {
   "cell_type": "markdown",
   "metadata": {},
   "source": [
    "This exercise will require you to pull some data from https://data.nasdaq.com/ (formerly Quandl API)."
   ]
  },
  {
   "cell_type": "markdown",
   "metadata": {},
   "source": [
    "As a first step, you will need to register a free account on the https://data.nasdaq.com/ website."
   ]
  },
  {
   "cell_type": "code",
   "execution_count": null,
   "metadata": {},
   "outputs": [],
   "source": [
    "# get api key from your .env file\n",
    "import os\n",
    "from dotenv import load_dotenv\n",
    "\n",
    "load_dotenv()\n",
    "API_KEY = os.getenv('NASDAQ_API_KEY')   \n",
    "\n",
    "print(API_KEY)"
   ]
  },
  {
   "cell_type": "markdown",
   "metadata": {},
   "source": [
    "Nasdaq Data has a large number of data sources, but, unfortunately, most of them require a Premium subscription. Still, there are also a good number of free datasets."
   ]
  },
  {
   "cell_type": "markdown",
   "metadata": {},
   "source": [
    "For this mini project, we will focus on equities data from the Frankfurt Stock Exhange (FSE), which is available for free. We'll try and analyze the stock prices of a company called Carl Zeiss Meditec, which manufactures tools for eye examinations, as well as medical lasers for laser eye surgery: https://www.zeiss.com/meditec/int/home.html. The company is listed under the stock ticker AFX_X."
   ]
  },
  {
   "cell_type": "markdown",
   "metadata": {},
   "source": [
    "You can find the detailed Nasdaq Data API instructions here: https://docs.data.nasdaq.com/docs/in-depth-usage"
   ]
  },
  {
   "cell_type": "markdown",
   "metadata": {},
   "source": [
    "While there is a dedicated Python package for connecting to the Nasdaq API, we would prefer that you use the *requests* package, which can be easily downloaded using *pip* or *conda*. You can find the documentation for the package here: http://docs.python-requests.org/en/master/ "
   ]
  },
  {
   "cell_type": "markdown",
   "metadata": {},
   "source": [
    "Finally, apart from the *requests* package, you are encouraged to not use any third party Python packages, such as *pandas*, and instead focus on what's available in the Python Standard Library (the *collections* module might come in handy: https://pymotw.com/3/collections/).\n",
    "Also, since you won't have access to DataFrames, you are encouraged to us Python's native data structures - preferably dictionaries, though some questions can also be answered using lists.\n",
    "You can read more on these data structures here: https://docs.python.org/3/tutorial/datastructures.html"
   ]
  },
  {
   "cell_type": "markdown",
   "metadata": {},
   "source": [
    "Keep in mind that the JSON responses you will be getting from the API map almost one-to-one to Python's dictionaries. Unfortunately, they can be very nested, so make sure you read up on indexing dictionaries in the documentation provided above."
   ]
  },
  {
   "cell_type": "code",
   "execution_count": 2,
   "metadata": {},
   "outputs": [],
   "source": [
    "# import the relevant modules\n",
    "import requests\n",
    "import collections\n",
    "import math"
   ]
  },
  {
   "cell_type": "markdown",
   "metadata": {},
   "source": [
    "Note: API's can change a bit with each version, for this exercise it is reccomended to use the nasdaq api at `https://data.nasdaq.com/api/v3/`. This is the same api as what used to be quandl so `https://www.quandl.com/api/v3/` should work too.\n",
    "\n",
    "Hint: We are looking for the `AFX_X` data on the `datasets/FSE/` dataset."
   ]
  },
  {
   "cell_type": "code",
   "execution_count": null,
   "metadata": {},
   "outputs": [],
   "source": [
    "#   format the url string\n",
    "#from wsgiref import headers\n",
    "\n",
    "# rows = 1\n",
    "# format = 'json'\n",
    "# main_db = 'FSE'\n",
    "# security = 'AFX_X'\n",
    "# url6 = f'https://data.nasdaq.com/api/v3/datasets/{main_db}/{security}/data.{format}?API_KEY=headers&rows={rows}'\n",
    "# url6 = f'https://data.nasdaq.com/api/v3/datasets/{main_db}/{security}/data.{format}?rows={rows}'\n",
    "#headers = {API_KEY: API_KEY}\n",
    "# r6 = requests.get(url6, headers=headers)\n",
    "# r6 = requests.get(url6)\n",
    "# print(url6)\n",
    "# print('headers are: ')\n",
    "# print(r6)"
   ]
  },
  {
   "cell_type": "code",
   "execution_count": 9,
   "metadata": {},
   "outputs": [
    {
     "name": "stdout",
     "output_type": "stream",
     "text": [
      "RRRRRRRRRRRRRRR {\"dataset_data\":{\"limit\":1,\"transform\":null,\"column_index\":null,\"column_names\":[\"Date\",\"Open\",\"High\",\"Low\",\"Close\",\"Change\",\"Traded Volume\",\"Turnover\",\"Last Price of the Day\",\"Daily Traded Units\",\"Daily Turnover\"],\"start_date\":\"2000-06-07\",\"end_date\":\"2020-12-01\",\"frequency\":\"daily\",\"data\":[[\"2020-12-01\",112.2,112.2,111.5,112.0,null,51.0,5703.0,null,null,null]],\"collapse\":null,\"order\":null}}\n",
      "TTTTTTTTTTTTTTT {'dataset_data': {'limit': 1, 'transform': None, 'column_index': None, 'column_names': ['Date', 'Open', 'High', 'Low', 'Close', 'Change', 'Traded Volume', 'Turnover', 'Last Price of the Day', 'Daily Traded Units', 'Daily Turnover'], 'start_date': '2000-06-07', 'end_date': '2020-12-01', 'frequency': 'daily', 'data': [['2020-12-01', 112.2, 112.2, 111.5, 112.0, None, 51.0, 5703.0, None, None, None]], 'collapse': None, 'order': None}}\n"
     ]
    }
   ],
   "source": [
    "# Call the Nasdaq API and pull out a small sample of the data into the JSON structure that will be returned\n",
    "rows = 1\n",
    "format = 'json'\n",
    "main_db = 'FSE'\n",
    "security = 'AFX_X'\n",
    "# urlString = f'https://data.nasdaq.com/api/v3/datasets/{main_db}/{security}/data.{format}?api_key={API_KEY}&rows={rows}'  #  with key\n",
    "urlString =  f'https://data.nasdaq.com/api/v3/datasets/{main_db}/{security}/data.{format}?rows={rows}'  # without key\n",
    "r1 = requests.get(urlString)\n",
    "t1 = r1.json()\n",
    "print('RRRRRRRRRRRRRRR', r1.text)      #  can be used with 'response.text' to return <class 'str'>\n",
    "print('TTTTTTTTTTTTTTT', t1)    "
   ]
  },
  {
   "cell_type": "code",
   "execution_count": 14,
   "metadata": {},
   "outputs": [
    {
     "name": "stdout",
     "output_type": "stream",
     "text": [
      "<class 'dict'>\n"
     ]
    }
   ],
   "source": [
    "# print(type(r1.text))   #  <class 'str'>\n",
    "print(type(t1)) #  <class 'dict'>\n"
   ]
  },
  {
   "cell_type": "code",
   "execution_count": 15,
   "metadata": {},
   "outputs": [
    {
     "name": "stdout",
     "output_type": "stream",
     "text": [
      "Key is:  dataset_data:   Values are:  {'limit': 1, 'transform': None, 'column_index': None, 'column_names': ['Date', 'Open', 'High', 'Low', 'Close', 'Change', 'Traded Volume', 'Turnover', 'Last Price of the Day', 'Daily Traded Units', 'Daily Turnover'], 'start_date': '2000-06-07', 'end_date': '2020-12-01', 'frequency': 'daily', 'data': [['2020-12-01', 112.2, 112.2, 111.5, 112.0, None, 51.0, 5703.0, None, None, None]], 'collapse': None, 'order': None}\n"
     ]
    }
   ],
   "source": [
    "# Inspect the JSON structure of the object you created, and take note of how nested it is,\n",
    "# as well as the overall structure\n",
    "\n",
    "# Print each key-value pair in json_data\n",
    "for key, val in t1.items():\n",
    "    print('Key is: ', key + ':  ', 'Values are: ', val)\n",
    "   # print('Key is: ', key + ':  ', 'Val is: ', val, 'JSON[key] is ',json_data[key])"
   ]
  },
  {
   "cell_type": "markdown",
   "metadata": {},
   "source": [
    "Tasks for the project:\n",
    "\n",
    "1. Collect data from the Franfurt Stock Exchange, for the ticker AFX_X, for the whole year 2017 (keep in mind that the date format is YYYY-MM-DD).\n",
    "2. Convert the returned JSON object into a Python dictionary.\n",
    "3. Calculate what the highest and lowest opening prices were for the stock in this period.\n",
    "4. What was the largest change in any one day (based on High and Low price)?\n",
    "5. What was the largest change between any two days (based on Closing Price)?\n",
    "6. What was the average daily trading volume during this year?\n",
    "7. (Optional) What was the median trading volume during this year. (Note: you may need to implement your own function for calculating the median.)"
   ]
  },
  {
   "cell_type": "markdown",
   "metadata": {},
   "source": [
    "1. Collecting the data for the entire year."
   ]
  },
  {
   "cell_type": "code",
   "execution_count": 16,
   "metadata": {},
   "outputs": [
    {
     "name": "stdout",
     "output_type": "stream",
     "text": [
      "https://data.nasdaq.com/api/v3/datasets/FSE/AFX_X/data.json?start_date=2017-01-01&end_date=2017-12-31\n"
     ]
    }
   ],
   "source": [
    "format = 'json'\n",
    "main_db = 'FSE'\n",
    "security = 'AFX_X'\n",
    "start = '2017-01-01'\n",
    "finish = '2017-12-31'\n",
    "\n",
    "url = f'https://data.nasdaq.com/api/v3/datasets/{main_db}/{security}/data.{format}?start_date={start}&end_date={finish}'\n",
    "print(url)\n",
    "r = requests.get(url)  "
   ]
  },
  {
   "cell_type": "code",
   "execution_count": 17,
   "metadata": {},
   "outputs": [
    {
     "name": "stdout",
     "output_type": "stream",
     "text": [
      "<Response [200]>\n"
     ]
    }
   ],
   "source": [
    "print(r)"
   ]
  },
  {
   "cell_type": "code",
   "execution_count": 18,
   "metadata": {},
   "outputs": [
    {
     "data": {
      "text/plain": [
       "requests.models.Response"
      ]
     },
     "execution_count": 18,
     "metadata": {},
     "output_type": "execute_result"
    }
   ],
   "source": [
    "type(r)   #   type: requests.models.Response  "
   ]
  },
  {
   "cell_type": "markdown",
   "metadata": {},
   "source": [
    "2. Convert the returned JSON object into a Python dictionary"
   ]
  },
  {
   "cell_type": "code",
   "execution_count": 20,
   "metadata": {},
   "outputs": [],
   "source": [
    "r_json = r.json()  #  converting the response json object to dict"
   ]
  },
  {
   "cell_type": "code",
   "execution_count": 21,
   "metadata": {},
   "outputs": [
    {
     "name": "stdout",
     "output_type": "stream",
     "text": [
      "dict_keys(['dataset_data'])\n"
     ]
    }
   ],
   "source": [
    "print(r_json.keys())  #   'dataset_data'   is the main key"
   ]
  },
  {
   "cell_type": "code",
   "execution_count": 22,
   "metadata": {},
   "outputs": [
    {
     "data": {
      "text/plain": [
       "dict"
      ]
     },
     "execution_count": 22,
     "metadata": {},
     "output_type": "execute_result"
    }
   ],
   "source": [
    "type(r_json)"
   ]
  },
  {
   "cell_type": "code",
   "execution_count": 24,
   "metadata": {},
   "outputs": [
    {
     "name": "stdout",
     "output_type": "stream",
     "text": [
      "Type of d44 is <class 'dict'>\n"
     ]
    }
   ],
   "source": [
    "d44 = r_json['dataset_data']  # unload key 'dataset_data' 1 level less, as \"classic\" python dict\n",
    "print(f'Type of d44 is {type(d44)}')"
   ]
  },
  {
   "cell_type": "code",
   "execution_count": 26,
   "metadata": {},
   "outputs": [
    {
     "name": "stdout",
     "output_type": "stream",
     "text": [
      "dict_keys(['limit', 'transform', 'column_index', 'column_names', 'start_date', 'end_date', 'frequency', 'data', 'collapse', 'order'])\n"
     ]
    }
   ],
   "source": [
    "print(d44.keys())  #    keys are 1 level closer to the main raw/level of keys"
   ]
  },
  {
   "cell_type": "code",
   "execution_count": null,
   "metadata": {},
   "outputs": [],
   "source": [
    "print(type(d44))  #   <class 'dict'>\n",
    "for k, v in d44.items():\n",
    "    print(k, v)"
   ]
  },
  {
   "cell_type": "code",
   "execution_count": 29,
   "metadata": {},
   "outputs": [
    {
     "name": "stdout",
     "output_type": "stream",
     "text": [
      "0 Date\n",
      "1 Open\n",
      "2 High\n",
      "3 Low\n",
      "4 Close\n",
      "5 Change\n",
      "6 Traded Volume\n",
      "7 Turnover\n",
      "8 Last Price of the Day\n",
      "9 Daily Traded Units\n",
      "10 Daily Turnover\n"
     ]
    }
   ],
   "source": [
    "ii = 0\n",
    "key_names = []  #  make list of keys\n",
    "for k in d44['column_names']:   #  prints keys names of 'data' key\n",
    "    print(ii,  k)\n",
    "    key_names.append(k)\n",
    "    ii += 1  # get index of keys to access them: 1 Open, 4 Close, 6 Traded Volume; "
   ]
  },
  {
   "cell_type": "code",
   "execution_count": 30,
   "metadata": {},
   "outputs": [
    {
     "data": {
      "text/plain": [
       "['Date',\n",
       " 'Open',\n",
       " 'High',\n",
       " 'Low',\n",
       " 'Close',\n",
       " 'Change',\n",
       " 'Traded Volume',\n",
       " 'Turnover',\n",
       " 'Last Price of the Day',\n",
       " 'Daily Traded Units',\n",
       " 'Daily Turnover']"
      ]
     },
     "execution_count": 30,
     "metadata": {},
     "output_type": "execute_result"
    }
   ],
   "source": [
    "key_names "
   ]
  },
  {
   "cell_type": "code",
   "execution_count": null,
   "metadata": {},
   "outputs": [],
   "source": [
    "for k in d44['data']:  #  individual day's list containing day's fields\n",
    "    print(k)"
   ]
  },
  {
   "cell_type": "code",
   "execution_count": null,
   "metadata": {},
   "outputs": [],
   "source": [
    "#  print(sorted(d44['data']))  # key 'data' contains the ticker 'FXX_X' for 2017 ---- sorted by date ascending  #  or\n",
    "for v in sorted(d44['data']):  #  sorted by date each of individual data day\n",
    "    print(v)\n",
    "    '''  sample of the individual lists with their fields...\n",
    "['2017-01-02', 34.99, 35.94, 34.99, 35.8, None, 44700.0, 1590561.0, None, None, None]\n",
    "['2017-01-03', 35.9, 35.93, 35.34, 35.48, None, 70618.0, 2515473.0, None, None, None]\n",
    "['2017-01-04', 35.48, 35.51, 34.75, 35.19, None, 54408.0, 1906810.0, None, None, None]\n",
    "['2017-01-05', 35.02, 35.2, 34.73, 35.06, None, 48412.0, 1692326.0, None, None, None]\n",
    "'''"
   ]
  },
  {
   "cell_type": "markdown",
   "metadata": {},
   "source": [
    "### Answers: \n",
    "####   What were the first and last days of the trading year?"
   ]
  },
  {
   "cell_type": "code",
   "execution_count": 41,
   "metadata": {},
   "outputs": [
    {
     "name": "stdout",
     "output_type": "stream",
     "text": [
      "Opening year date: $2017-12-29\n",
      "Closing year date:  $2017-01-02.\n"
     ]
    }
   ],
   "source": [
    "arrDate = []\n",
    "\n",
    "for v in d44['data']:\n",
    "    if v[0]:\n",
    "        arrDate.append(v[0])   \n",
    "#print(arrDate)  \n",
    "high_date = max(arrDate)\n",
    "low_date = min(arrDate)\n",
    "print(f'Opening year date: ${high_date}\\nClosing year date:  ${low_date}.')"
   ]
  },
  {
   "cell_type": "markdown",
   "metadata": {},
   "source": [
    "##### 3. Calculate what the highest and lowest opening prices were for the stock in this period."
   ]
  },
  {
   "cell_type": "code",
   "execution_count": 42,
   "metadata": {},
   "outputs": [
    {
     "name": "stdout",
     "output_type": "stream",
     "text": [
      "Highest opening price in 2017 was: $53.11\n",
      "Lowest opening price in 2017 was:  $34.0\n"
     ]
    }
   ],
   "source": [
    "arr = []  #  list of Open Price's\n",
    "for v in d44['data']:\n",
    "    if v[1]:\n",
    "        arr.append(v[1])   \n",
    "##print(arr)  \n",
    "high_open = max(arr)\n",
    "low_open = min(arr)\n",
    "print(f'Highest opening price in 2017 was: ${high_open}\\nLowest opening price in 2017 was:  ${low_open}')"
   ]
  },
  {
   "cell_type": "markdown",
   "metadata": {},
   "source": [
    "##### 4. What was the largest change in any one day (based on High and Low price)?\n"
   ]
  },
  {
   "cell_type": "code",
   "execution_count": 45,
   "metadata": {},
   "outputs": [
    {
     "name": "stdout",
     "output_type": "stream",
     "text": [
      "The largest change between High and Low on the same day was $2.81\n"
     ]
    }
   ],
   "source": [
    "larg = []\n",
    "for v in d44['data']:\n",
    "    if v[2] and v[3]:\n",
    "        larg.append(v[2] - v[3])\n",
    "greatestSpan = round(max(larg), 2)\n",
    "print(f\"The largest change between High and Low on the same day was ${greatestSpan}\")  "
   ]
  },
  {
   "cell_type": "markdown",
   "metadata": {},
   "source": [
    "##### 5. What was the largest change between any two days (based on Closing Price)?\n"
   ]
  },
  {
   "cell_type": "code",
   "execution_count": 46,
   "metadata": {},
   "outputs": [
    {
     "name": "stdout",
     "output_type": "stream",
     "text": [
      "Largest change between any two days was $2.56\n"
     ]
    }
   ],
   "source": [
    "closingPriceList = []\n",
    "for v in d44['data']:\n",
    "    if v[4]:\n",
    "        closingPriceList.append(v[4])\n",
    "# print(closingPriceList)\n",
    "\n",
    "largestClosing = []\n",
    "for i in range(0, len(closingPriceList) -1):\n",
    "    largestClosing.append(closingPriceList[i+1] - closingPriceList[i])\n",
    "# print(largestClosing)\n",
    "\n",
    "largestChange = max(largestClosing)\n",
    "print(f'Largest change between any two days was ${round(largestChange, 2)}')"
   ]
  },
  {
   "cell_type": "markdown",
   "metadata": {},
   "source": [
    "6. What was the average daily trading volume during this year?\n"
   ]
  },
  {
   "cell_type": "code",
   "execution_count": 49,
   "metadata": {},
   "outputs": [
    {
     "name": "stdout",
     "output_type": "stream",
     "text": [
      "AVerage trading Volume was: 89124.34\n"
     ]
    }
   ],
   "source": [
    "dayVolume = []\n",
    "for values in d44['data']:\n",
    "    dayVolume.append(values[6])\n",
    "# print(dayVolume)  \n",
    "# print(sum(dayVolume))  \n",
    "# print(len(dayVolume))\n",
    "averagevalue = sum(dayVolume) / len(dayVolume)\n",
    "print(f'AVerage trading Volume was: {round(averagevalue, 2)}')"
   ]
  },
  {
   "cell_type": "markdown",
   "metadata": {},
   "source": [
    "##### 7.  What was the median trading volume during this year. "
   ]
  },
  {
   "cell_type": "code",
   "execution_count": 51,
   "metadata": {},
   "outputs": [
    {
     "name": "stdout",
     "output_type": "stream",
     "text": [
      "The Median trading Volume was:  76286\n"
     ]
    }
   ],
   "source": [
    "dv = sorted(dayVolume)\n",
    "#print('Half length of the sorted Volume list is: ', len(dv)/2)\n",
    "# type(len(dv)/2) \n",
    "print(f'The Median trading Volume was:  {int(dv[127])}')"
   ]
  },
  {
   "cell_type": "code",
   "execution_count": 52,
   "metadata": {},
   "outputs": [
    {
     "name": "stdout",
     "output_type": "stream",
     "text": [
      "The median trading Volume value was: 76286\n"
     ]
    }
   ],
   "source": [
    "# alternative solution 'automating' the procedure above in a func\n",
    "# import math\n",
    "def Median_Volume(arr) :\n",
    "    arr.sort()\n",
    "    l = len(arr)-1\n",
    "    medianindex = l/2\n",
    "    medianindexint = int(medianindex)\n",
    "    if medianindexint == medianindex:   # it's an int \n",
    "        return arr[medianindexint]\n",
    "    else:\n",
    "        lowerindex = math.floor(medianindex)  # or round to lower or higher index \n",
    "        upperindex = math.ceil(medianindex)\n",
    "    res = (arr[lowerindex] + arr[upperindex]) / 2\n",
    "    return res\n",
    "\n",
    "medianVal = Median_Volume(dv)            # call func\n",
    "print(f'The median trading Volume value was: {int(medianVal)}')"
   ]
  },
  {
   "cell_type": "markdown",
   "metadata": {},
   "source": [
    "##### 8. What was the median price?"
   ]
  },
  {
   "cell_type": "code",
   "execution_count": 57,
   "metadata": {},
   "outputs": [],
   "source": [
    "def median_Price(arr):\n",
    "    s = sorted(arr)\n",
    "    mid = int(len(s)/2)\n",
    "    mediaN = arr[mid]\n",
    "    return mediaN\n",
    "# print(sorted(arr))"
   ]
  },
  {
   "cell_type": "code",
   "execution_count": 58,
   "metadata": {},
   "outputs": [
    {
     "name": "stdout",
     "output_type": "stream",
     "text": [
      "The Median Price during 2017 was: $45.01\n"
     ]
    }
   ],
   "source": [
    "m = median_Price(arr)\n",
    "print(f\"The Median Price during 2017 was: ${m}\")"
   ]
  }
 ],
 "metadata": {
  "kernelspec": {
   "display_name": "Python 3.8.2rc1 64-bit",
   "language": "python",
   "name": "python3"
  },
  "language_info": {
   "codemirror_mode": {
    "name": "ipython",
    "version": 3
   },
   "file_extension": ".py",
   "mimetype": "text/x-python",
   "name": "python",
   "nbconvert_exporter": "python",
   "pygments_lexer": "ipython3",
   "version": "3.8.2rc1"
  },
  "vscode": {
   "interpreter": {
    "hash": "bc9a4dcc20f569ca6e27741833c7348a3dc95c498452efe02638d3a5b3f0e1ee"
   }
  }
 },
 "nbformat": 4,
 "nbformat_minor": 4
}
